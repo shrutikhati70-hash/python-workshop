{
 "cells": [
  {
   "cell_type": "markdown",
   "id": "cb1d8588-6a2a-4cd1-8227-1a27ced96eaa",
   "metadata": {},
   "source": [
    "# NumPy"
   ]
  },
  {
   "cell_type": "code",
   "execution_count": 1,
   "id": "a64eaa69-795d-4362-9cf0-2df08bf8ab96",
   "metadata": {},
   "outputs": [
    {
     "name": "stdout",
     "output_type": "stream",
     "text": [
      "[[1 2 3]\n",
      " [4 5 6]]\n"
     ]
    }
   ],
   "source": [
    "import numpy as np\n",
    "arr = np.array([[1,2,3],[4,5,6]])\n",
    "print(arr)"
   ]
  },
  {
   "cell_type": "code",
   "execution_count": 2,
   "id": "fffb7926-7476-4086-ba09-28bebf23328a",
   "metadata": {},
   "outputs": [
    {
     "name": "stdout",
     "output_type": "stream",
     "text": [
      "[[[1 2 3]\n",
      "  [4 5 6]]\n",
      "\n",
      " [[1 2 3]\n",
      "  [4 5 6]]]\n"
     ]
    }
   ],
   "source": [
    "import numpy as np\n",
    "arr = np.array([[[1,2,3],[4,5,6]],[[1,2,3],[4,5,6]]])\n",
    "print(arr)"
   ]
  },
  {
   "cell_type": "code",
   "execution_count": 3,
   "id": "df32ccd4-a325-4026-956f-d0403b08fd0c",
   "metadata": {},
   "outputs": [
    {
     "name": "stdout",
     "output_type": "stream",
     "text": [
      "0\n",
      "1\n",
      "3\n"
     ]
    }
   ],
   "source": [
    "import numpy as np\n",
    "a = np.array(42)\n",
    "b = np.array([1,2,3,4,5])\n",
    "c = np.array([[[1,2,3],[4,5,6]],[[1,2,3],[4,5,6]]])\n",
    "print (a.ndim)\n",
    "print(b.ndim)\n",
    "print (c.ndim)\n"
   ]
  },
  {
   "cell_type": "code",
   "execution_count": 4,
   "id": "839fa501-4ac6-4055-872d-602edcabbf2f",
   "metadata": {},
   "outputs": [
    {
     "name": "stdout",
     "output_type": "stream",
     "text": [
      "2nd element on 1st row: 3\n",
      "[1 2 3]\n"
     ]
    }
   ],
   "source": [
    "import numpy as np\n",
    "arr = np.array([[1,2,3],[4,5,6]])\n",
    "print('2nd element on 1st row:',arr[0,2])\n",
    "print(arr[0])"
   ]
  },
  {
   "cell_type": "code",
   "execution_count": 5,
   "id": "02aaff9c-ad90-4976-a3c6-db8fca731b39",
   "metadata": {},
   "outputs": [
    {
     "name": "stdout",
     "output_type": "stream",
     "text": [
      "1\n",
      "2\n",
      "3\n",
      "4\n",
      "5\n",
      "6\n",
      "7\n",
      "8\n"
     ]
    }
   ],
   "source": [
    "import numpy as np\n",
    "arr = np.array([[[1,2],[3,4]],[[5,6],[7,8]]])\n",
    "for x in np.nditer(arr):\n",
    "    print(x)\n",
    "# print(arr.ndim)"
   ]
  },
  {
   "cell_type": "markdown",
   "id": "9d551bc7-845f-4bbc-8720-a2405148d542",
   "metadata": {},
   "source": [
    "### Array"
   ]
  },
  {
   "cell_type": "code",
   "execution_count": 6,
   "id": "f6c7e0fd-1d60-4ea9-841b-f152d78accc6",
   "metadata": {},
   "outputs": [
    {
     "name": "stdout",
     "output_type": "stream",
     "text": [
      "[1 2 3 4 5 6]\n"
     ]
    }
   ],
   "source": [
    "#joint two array\n",
    "import numpy as np\n",
    "arr1 = np.array([1,2,3])\n",
    "arr2 = np.array([4,5,6])\n",
    "arr = np.concatenate((arr1,arr2))\n",
    "print(arr)"
   ]
  },
  {
   "cell_type": "code",
   "execution_count": 7,
   "id": "0784694c-5bdf-4fe6-b620-1d0d5ad3484c",
   "metadata": {},
   "outputs": [
    {
     "name": "stdout",
     "output_type": "stream",
     "text": [
      "(array([6]),)\n"
     ]
    }
   ],
   "source": [
    "#array search\n",
    "import numpy as np\n",
    "arr = np.array([1,2,3,4,5,4,7,4])\n",
    "x = np.where(arr == 7)\n",
    "print(x)"
   ]
  },
  {
   "cell_type": "code",
   "execution_count": 8,
   "id": "68fe9d62-c245-4bb7-9b1d-37120ede18a9",
   "metadata": {},
   "outputs": [
    {
     "name": "stdout",
     "output_type": "stream",
     "text": [
      "[0 1 2 3]\n"
     ]
    }
   ],
   "source": [
    "#sorting\n",
    "#does not change the original value rather returns the copy\n",
    "import numpy as np\n",
    "arr =np.array([3,2,0,1])\n",
    "print(np.sort(arr))"
   ]
  },
  {
   "cell_type": "code",
   "execution_count": 9,
   "id": "2fa6a126-27a1-44d5-b5b8-79661a47045b",
   "metadata": {},
   "outputs": [
    {
     "name": "stdout",
     "output_type": "stream",
     "text": [
      "[41 43]\n"
     ]
    }
   ],
   "source": [
    "#array filtering\n",
    "import numpy as np\n",
    "arr = np.array([41,42,43,44])\n",
    "x = [True, False,True,False]\n",
    "newarr = arr[x]\n",
    "print (newarr)"
   ]
  },
  {
   "cell_type": "code",
   "execution_count": 10,
   "id": "32a433cc-7b0f-453b-9dc9-f8f9978780a2",
   "metadata": {},
   "outputs": [
    {
     "name": "stdout",
     "output_type": "stream",
     "text": [
      "{'money': 12, 'candy': 3, 'tissues': 75}\n"
     ]
    }
   ],
   "source": [
    "#dictionaries\n",
    "purse = dict()\n",
    "purse ['money']= 12\n",
    "purse ['candy'] = 3\n",
    "purse ['tissues']=75\n",
    "print (purse)"
   ]
  },
  {
   "cell_type": "code",
   "execution_count": 11,
   "id": "aa5def1d-5380-4834-853f-2553ccc2edde",
   "metadata": {},
   "outputs": [
    {
     "name": "stdout",
     "output_type": "stream",
     "text": [
      "{'money': 12, 'candy': 3, 'tissues': 75}\n",
      "3\n"
     ]
    }
   ],
   "source": [
    "purse = dict()\n",
    "purse ['money']= 12\n",
    "purse ['candy'] = 3\n",
    "purse ['tissues']=75\n",
    "print (purse)\n",
    "print (purse['candy'])"
   ]
  },
  {
   "cell_type": "code",
   "execution_count": 12,
   "id": "6303e7bc-1508-492d-bb7b-a0386d7087ac",
   "metadata": {},
   "outputs": [
    {
     "name": "stdout",
     "output_type": "stream",
     "text": [
      "['candy']\n"
     ]
    }
   ],
   "source": [
    "purse = ['candy'] \n",
    "purse1 = ['money']\n",
    "purse2 = ['candy']\n",
    "purse3 = ['tissues']\n",
    "print(purse)"
   ]
  },
  {
   "cell_type": "code",
   "execution_count": 13,
   "id": "98bdc9da-4894-4d78-8155-324fe890df5e",
   "metadata": {},
   "outputs": [
    {
     "name": "stdout",
     "output_type": "stream",
     "text": [
      "[21, 183]\n"
     ]
    },
    {
     "data": {
      "text/plain": [
       "21"
      ]
     },
     "execution_count": 13,
     "metadata": {},
     "output_type": "execute_result"
    }
   ],
   "source": [
    "#comparing lists and dictionaries\n",
    "st = list()\n",
    "st.append(21)\n",
    "st.append(183)\n",
    "print(st)\n",
    "[21,183]\n",
    "st[0]"
   ]
  },
  {
   "cell_type": "code",
   "execution_count": 14,
   "id": "a0c30ff6-181a-4f38-a4d4-26fd77c02b79",
   "metadata": {},
   "outputs": [
    {
     "name": "stdout",
     "output_type": "stream",
     "text": [
      "Hi, i'm Shruti Khati. I am a girl. I like to write, but I am not a write. I write just anything. Today i tured 20!!! But, i feel really anxious.\n"
     ]
    }
   ],
   "source": [
    "#Reading files\n",
    "fhand = open('mycurrentstate.txt')\n",
    "for content in fhand:\n",
    "    print(content)"
   ]
  },
  {
   "cell_type": "code",
   "execution_count": 15,
   "id": "a06df841-88fd-4f21-b6e4-a699978a03e7",
   "metadata": {},
   "outputs": [],
   "source": [
    "#File handle as a sequence"
   ]
  },
  {
   "cell_type": "code",
   "execution_count": 16,
   "id": "a5ed03d0-ff8e-41e4-8f7b-7d380c6a9ddd",
   "metadata": {},
   "outputs": [],
   "source": [
    "#Normal/Gaussian Distribution"
   ]
  },
  {
   "cell_type": "code",
   "execution_count": 17,
   "id": "437e1a2a-8f33-4d91-9d6c-e077f4f4ffb5",
   "metadata": {},
   "outputs": [
    {
     "name": "stdout",
     "output_type": "stream",
     "text": [
      "[ 1.68238987e+00 -8.85251768e-01 -1.50645523e-01  2.08473427e-01\n",
      "  8.05179714e-01  1.31653006e+00 -4.63404963e-01 -3.39507928e-01\n",
      "  1.25615338e+00 -1.38604872e+00 -2.64558629e-01  1.07957134e+00\n",
      "  6.42784219e-01 -3.79741963e-02  9.42615932e-01  1.14237669e+00\n",
      " -2.00833094e-01 -6.61905130e-03 -7.63224237e-01 -9.47861865e-01\n",
      " -6.61563317e-01 -1.98443939e-01  1.34251613e+00  1.47315795e+00\n",
      "  1.52464101e-01 -7.20311830e-02 -1.15177453e+00 -1.07888565e+00\n",
      "  2.70783630e-01  4.41872893e-01  9.44991233e-01  2.23488492e-02\n",
      " -2.40281096e-01  4.43866259e-01 -4.91878002e-01  8.73244398e-01\n",
      " -9.46465148e-01  8.35952618e-01 -1.48828034e-01  7.97350023e-01\n",
      "  1.06523902e-01  1.63641587e+00 -1.06721659e+00  1.04063791e+00\n",
      "  5.33254310e-01 -5.23683717e-01  7.56224404e-01  1.41275677e-01\n",
      " -6.08415447e-02  6.27140607e-01 -1.33491351e+00  1.36673008e+00\n",
      "  1.04333075e+00  9.94222754e-01  5.72376870e-01  8.29445374e-01\n",
      " -6.56249156e-01 -8.37745484e-01  8.99189882e-02  7.42537231e-01\n",
      " -7.11540801e-01 -2.27557302e-01 -1.00789208e+00  7.68804692e-01\n",
      " -1.26670567e+00 -2.95673121e-01 -7.48530385e-01 -1.96928160e-01\n",
      "  2.91339010e-02  4.00605292e-01 -1.55591716e+00 -5.18827082e-01\n",
      " -5.86214582e-01 -5.07333670e-01 -1.88852788e+00  1.69084433e+00\n",
      " -1.31979982e+00  2.93772251e+00  1.63691303e-01 -5.16793964e-01\n",
      "  1.36973378e-01 -1.92792335e-01  1.23647599e+00  1.03707958e+00\n",
      "  7.18305129e-01  6.19441386e-01  5.85279074e-01  6.24513036e-01\n",
      " -2.13281537e+00 -3.75201030e-01  3.31891151e-01 -2.96937518e-01\n",
      "  9.05139435e-01 -5.83456050e-01  7.39372566e-01  4.16872409e-01\n",
      "  1.43638852e+00 -2.46686362e-01 -3.68056915e-01  4.69196598e-01\n",
      " -1.41493151e+00  1.67958433e+00 -6.04714569e-01 -9.98521393e-02\n",
      " -1.20218040e+00 -3.64800371e-01  8.76397474e-01  5.18344944e-01\n",
      "  8.76447105e-01 -1.60967470e+00  1.41981769e+00  6.78941213e-01\n",
      "  1.15534392e+00 -3.07724842e-01 -5.61006235e-01  9.42162244e-01\n",
      "  2.50655480e-01  1.46020263e+00 -1.36793245e-01  8.42124289e-01\n",
      "  5.29727943e-02 -3.48125712e-01 -9.97095804e-02 -1.09663737e+00\n",
      "  1.59710885e-01  8.17316832e-01  1.88429128e+00  8.31270202e-01\n",
      "  8.24076966e-02  1.49987546e-01  7.17655139e-01  1.93552278e-01\n",
      " -1.93747936e+00 -7.95895558e-01 -1.44239963e+00 -1.89116822e-01\n",
      " -1.85971018e+00 -9.47854955e-01 -3.32686943e-01  4.68755756e-01\n",
      "  7.10791584e-01 -9.58231778e-01  2.13341829e+00 -1.26791701e+00\n",
      " -1.69163801e+00  6.94231154e-01 -9.05723146e-01  1.49595541e-01\n",
      "  5.21554775e-01  5.11103078e-01 -2.67053288e+00 -1.03982211e+00\n",
      "  5.02741855e-01 -7.94509076e-02  9.77643222e-01  6.58490460e-01\n",
      "  1.08475742e+00  2.11335924e+00  2.23080860e+00 -6.72093665e-01\n",
      "  7.97112637e-01  1.58136330e+00  2.60629033e+00  3.45505497e-01\n",
      " -9.18132667e-01  3.84186623e-01  2.13680482e+00 -4.53929315e-01\n",
      "  7.32872572e-01 -2.21159359e+00  1.73329434e-01  2.13652433e+00\n",
      "  2.10596071e+00 -1.10326825e+00  1.60845658e+00 -4.18000560e-01\n",
      "  1.53694033e+00  7.06900996e-01 -6.95323182e-01  5.17960518e-01\n",
      "  1.45403063e-01  1.73086642e+00 -2.31922723e+00 -7.41767590e-01\n",
      " -6.00990011e-01  2.21662773e+00 -1.29273763e+00 -2.09393532e-01\n",
      " -9.31857414e-01 -1.29588013e+00  1.10777206e-01  4.41102628e-01\n",
      " -1.30936672e+00  1.45370934e+00 -8.86194495e-01  3.01809885e-01\n",
      "  1.81736063e-01 -1.72555331e+00 -2.60438516e-01  1.18419591e-01\n",
      " -3.37803275e-01  8.84858520e-01 -1.04990560e+00  2.18158387e+00\n",
      " -4.28621694e-01 -8.27766040e-01 -2.93635661e-01 -6.55790732e-01\n",
      " -1.00129405e-01 -3.27360372e-01 -1.26649150e+00 -5.61753136e-02\n",
      "  2.21950959e+00  5.24563720e-01  6.37016820e-01  3.28888293e-01\n",
      "  1.95380197e+00  1.57868855e+00 -1.00421486e-01 -2.44365875e-01\n",
      " -1.10794156e+00  1.11262507e-01  3.75966962e-01 -5.13862140e-03\n",
      " -1.79508354e+00  6.14961948e-01 -3.02588696e-01  1.80595815e+00\n",
      " -2.55667366e-02  9.73158194e-01  5.79449195e-01  1.25470436e+00\n",
      " -1.50031860e+00  1.80804172e+00  9.05954688e-01  1.47133299e+00\n",
      "  1.97578603e+00  1.54160939e-01  8.51587883e-01  1.76445591e+00\n",
      "  2.33766432e-01  1.09340210e-01  8.60440516e-01 -3.20044489e-01\n",
      "  1.43770231e+00 -8.12708369e-01 -7.22602743e-01 -1.01183780e-01\n",
      "  1.33606891e+00 -1.67586123e+00 -5.16865765e-01  4.64727442e-01\n",
      "  9.35969071e-01  1.93455034e-02 -5.57753176e-01 -1.64715994e-02\n",
      "  2.86867239e-01  7.03990407e-01  5.88695235e-01 -1.49282930e+00\n",
      "  2.06141114e+00 -1.87757373e+00 -2.54838409e-01  6.14125989e-01\n",
      " -1.70106005e-01  9.66111700e-01  1.45284227e+00 -1.66271858e+00\n",
      " -2.83926201e+00  1.67870404e+00  4.96607867e-01 -1.75273495e-01\n",
      " -5.67449045e-01  8.31535994e-01  2.31293552e-01 -6.90366152e-01\n",
      " -2.63158639e-01  1.68000056e-01 -3.64866353e-01 -1.09029285e+00\n",
      "  2.63506527e-01  1.38904882e+00  1.82562179e-01 -5.10257531e-01\n",
      " -3.56990970e-01 -2.55953369e-01 -8.46717748e-01  1.41790416e+00\n",
      "  1.83143094e-01 -8.84500223e-01  1.14192243e+00 -4.07475571e-01\n",
      "  3.16483747e-01 -2.36413675e-01  1.56669069e+00 -2.69573719e-01\n",
      " -5.36390613e-01 -5.91038886e-01  5.59226602e-01  2.34800937e+00\n",
      "  7.50846294e-02 -6.22828805e-01 -3.78527210e-01 -8.65307257e-01\n",
      " -1.03685140e-03 -1.36349043e-01  1.51131786e+00 -3.01145633e-01\n",
      " -2.60599677e-01 -1.42766348e+00  6.60745049e-01 -7.47440232e-01\n",
      "  1.78973857e+00 -5.30545761e-01  1.22195707e+00  4.06661672e-01\n",
      "  5.61128430e-01 -3.32457550e-01 -2.51819680e+00 -1.31050298e-03\n",
      " -1.02799555e+00  1.55505706e+00 -1.20542003e+00  1.85008233e+00\n",
      "  4.17789583e-02  1.90627856e+00  1.94872377e+00  3.47491208e-01\n",
      " -7.70128484e-01 -5.57898286e-01  5.31030352e-01  3.85525995e-01\n",
      "  4.45747869e-01 -3.47782230e-01  6.37502675e-01 -1.36202179e+00\n",
      " -1.84933648e+00  1.32135028e+00  1.06553957e+00  1.36551826e+00\n",
      "  3.81468236e-01 -1.15223707e+00  9.36418194e-01 -7.53418378e-02\n",
      " -5.71447763e-01 -1.08047521e+00  3.35982291e-01 -1.09100459e+00\n",
      "  6.04376063e-01 -1.19490418e-01 -2.85391331e-01 -2.82318486e-01\n",
      "  8.46500194e-01  7.77551569e-01 -1.88150188e+00  1.78816125e-01\n",
      "  2.23215370e-01 -7.88971110e-01 -2.10725693e-01  6.73072463e-02\n",
      " -1.24854014e-01  1.29802230e+00  7.72529458e-01  1.29049038e+00\n",
      " -1.64721382e-01 -3.48147619e-01 -5.31204399e-01 -1.45714322e+00\n",
      "  6.16644927e-01 -1.03955379e-01  3.85413112e-01  1.26303624e+00\n",
      "  1.67172966e+00 -1.04789514e+00  1.61537987e+00  5.86476198e-01\n",
      " -2.38385031e-01 -1.74290437e+00  1.85582236e+00 -1.54907843e+00\n",
      "  8.52673537e-01  8.90118191e-01  2.27350026e+00 -4.49445177e-01\n",
      "  1.54371131e+00 -7.47597354e-01 -1.04279263e+00  5.47614183e-02\n",
      "  2.47292070e-01  1.00184817e-02  3.85668895e-03  1.44555774e+00\n",
      " -4.32236097e-01 -4.27941193e-01 -6.86686933e-01 -1.52645856e+00\n",
      "  4.89623545e-01  6.37544400e-01  4.18784386e-01 -4.31765474e-01\n",
      "  7.22018735e-02 -9.39456967e-01  5.16270593e-01 -8.83658257e-01\n",
      "  1.50038496e+00  6.28979467e-02  6.26145186e-01  1.14948468e+00\n",
      " -2.34009296e+00 -5.23512734e-01  1.56529090e-01 -1.15736458e-01\n",
      " -1.27666426e+00 -4.01958677e-01 -8.83179380e-01  7.29420763e-01\n",
      " -1.48061751e+00  1.43585209e+00  8.50455899e-01  2.66724564e-01\n",
      "  5.51086943e-01  9.63227205e-01  9.19855051e-01 -1.46720749e+00\n",
      " -1.76330279e-02  5.99356193e-01  2.21550322e-01 -6.62437768e-01\n",
      "  5.56814339e-01  5.71094996e-01  1.74186501e-01  5.63458926e-01\n",
      "  1.31798533e+00 -1.46596274e-01  1.21010611e+00 -9.40465043e-01\n",
      "  1.15140363e+00 -5.04589531e-01  6.81412247e-01  7.58074360e-01\n",
      "  8.88933831e-02  8.10682390e-01  5.49396830e-01  6.15814648e-01\n",
      " -4.68005327e-01 -1.14020666e-01 -1.00395302e-01  9.15464641e-01\n",
      "  6.46909039e-01 -1.17822598e-01  1.08717798e+00  1.01150910e-01\n",
      " -9.42205469e-01  1.47809802e+00  1.73059977e-01  7.70417374e-01\n",
      "  8.49052788e-01  1.70497822e+00  7.02436122e-01 -1.67326729e+00\n",
      " -6.52469220e-02 -6.96251833e-01 -7.62914352e-01  1.78656901e-01\n",
      "  4.43650366e-01  6.64604311e-01 -9.13071474e-01  1.91436118e-01\n",
      " -9.08935032e-01 -9.61340970e-01 -2.62646601e-01  6.19170295e-01\n",
      " -1.05984686e+00  4.32635773e-01 -8.31593824e-01 -8.54489861e-01\n",
      "  5.96371605e-01  2.22552281e+00  9.42832833e-01  1.36339808e+00\n",
      "  5.72461310e-01  8.71539351e-01 -2.26083409e+00 -1.49980854e+00\n",
      "  9.32221664e-01  5.17787974e-01 -7.55073219e-01  5.26368379e-01\n",
      " -1.27703914e+00 -3.65502879e-01  1.50090766e-01 -1.39828576e+00\n",
      " -1.27254111e+00  1.07524093e+00 -4.15492414e-02  2.15023754e+00\n",
      " -1.99014371e+00 -1.27206096e+00  1.77774649e+00  1.68031871e+00\n",
      "  1.43859598e-01 -1.11937276e+00  1.84379738e-01  2.11575412e-01\n",
      "  1.02961153e+00  8.33317488e-02 -1.16752858e+00  1.34068854e+00\n",
      "  1.77367556e-01 -2.08672640e-02 -1.06615721e+00 -9.01660704e-01\n",
      "  2.48834253e+00  3.69232338e-01  4.81574964e-01  7.82671103e-01\n",
      " -1.88900438e+00 -8.89520765e-01  7.04814135e-01  6.89544282e-01\n",
      "  8.12380098e-01  2.28967985e-02  6.60148397e-02  7.36145272e-01\n",
      " -1.42880233e+00 -7.05557567e-01 -5.81150926e-01 -9.73992196e-01\n",
      " -4.28480348e-01 -6.58576827e-01 -3.74541577e-02  2.31148628e-01\n",
      "  9.33491619e-01 -7.16386219e-01  1.33304258e+00  1.89914481e+00\n",
      " -2.72481763e+00  9.37261916e-02  9.17679685e-01 -3.13175904e-01\n",
      "  7.29750709e-01  8.77061489e-01  2.98533255e-01  1.08685645e+00\n",
      " -2.32688243e-01  4.95240272e-01  4.79382469e-01 -2.03600467e-01\n",
      "  1.65432248e+00  1.11994025e+00 -1.77725605e-01  2.04974252e-01\n",
      " -1.66907342e+00  1.65857709e-01  7.49689912e-01  1.09141514e-01\n",
      "  2.03050562e-01  7.10386212e-01 -6.39838623e-02  5.98126667e-01\n",
      " -1.84778897e-01  9.44724855e-01  1.14555293e+00  1.67958809e+00\n",
      "  5.68414729e-01 -2.00050713e+00 -7.90030346e-01  7.06070859e-01\n",
      " -1.00888386e+00  1.54880706e+00  1.01551345e+00 -1.44183243e+00\n",
      "  1.52490747e+00 -6.90653010e-01  5.61875462e-01 -3.68966728e-01\n",
      " -4.60947629e-01 -2.63865637e+00 -9.33638096e-01 -5.65169423e-01\n",
      "  3.52145933e-01 -4.94410110e-01  1.41611704e+00 -4.38724187e-01\n",
      " -3.72221350e-01  2.38061380e+00  3.10154409e-01 -1.13220503e+00\n",
      "  4.71046891e-01 -1.05163377e+00 -1.50187679e+00  6.63691080e-01\n",
      " -1.72167698e+00 -7.56943097e-01 -7.36629907e-01 -2.69744593e-01\n",
      "  4.66278432e-02  2.60997501e+00  1.45157195e+00  1.03597457e+00\n",
      "  5.56503572e-01  3.59611375e-01 -9.72025310e-01 -5.08992222e-01\n",
      "  1.58962975e-01  9.11355369e-01 -4.52573864e-01  2.05738604e-01\n",
      " -1.51856939e+00 -5.86724394e-01  1.57589979e+00  8.11886491e-01\n",
      " -9.27967194e-01 -1.55058923e+00  1.23217914e+00 -1.10270164e+00\n",
      "  9.13327059e-01 -8.54734351e-01 -1.00165097e+00 -7.89229489e-01\n",
      "  2.17444030e+00 -6.27292255e-01  5.06668778e-01 -1.37957099e+00\n",
      "  5.41547597e-01  1.81858998e+00  9.78693961e-01  8.80605086e-01\n",
      "  1.21732844e+00 -3.85329344e-01 -2.07566463e-01 -1.31327245e+00\n",
      " -9.24797709e-01 -8.79079740e-01 -9.01932530e-01  9.29888280e-01\n",
      " -1.71736858e+00  1.81726797e+00  8.77882649e-02 -2.69694389e-01\n",
      "  1.29860045e-01  9.32751370e-01 -4.45112734e-01 -9.72781533e-01\n",
      " -1.21579717e+00  6.63043326e-01 -6.14862910e-01 -1.69481053e+00\n",
      " -2.80334307e-01 -4.06960099e-01 -1.12805644e+00  1.42675272e+00\n",
      " -9.88449661e-01  8.42528597e-01 -2.16945951e+00 -4.74998096e-01\n",
      " -1.74772504e-01 -8.01678424e-01 -6.72294928e-01 -9.51531486e-01\n",
      "  8.03334594e-01  1.88227201e-01  4.41582110e-01  4.05503682e-02\n",
      " -1.86145388e-01  1.77273258e-01  1.31683699e+00  5.57321473e-01\n",
      "  8.72583028e-02 -4.61688571e-01 -1.20302148e+00 -1.89889009e+00\n",
      " -4.48314813e-01 -1.76762967e-01  2.29773234e+00 -2.11990571e+00\n",
      "  1.18527509e-01  2.56851589e+00  2.16751986e+00  1.54050222e+00\n",
      " -1.39438042e+00 -2.55511538e-01 -9.78515422e-02 -4.33831856e-01\n",
      "  1.45654256e-01 -9.86758047e-02  3.39356683e-01 -9.64121522e-01\n",
      " -4.27525596e-01 -6.71276053e-01 -8.08586169e-01 -5.61965588e-01\n",
      " -9.13555932e-01  7.45356188e-01 -3.73801117e-01 -2.98906968e-02\n",
      " -1.48127361e-01 -2.05200003e+00  1.32857381e+00  1.66230943e+00\n",
      "  1.20404925e+00 -1.30691340e+00  5.25130981e-02 -8.29913720e-01\n",
      " -3.26944859e-01 -1.42293559e+00  6.26252256e-01 -8.72033286e-01\n",
      "  5.51410570e-01 -1.60715259e+00 -1.44108529e+00  1.07603727e-01\n",
      " -4.97920773e-01 -3.67124824e-01 -1.13722631e+00  1.18174735e+00\n",
      " -1.14338983e+00 -1.09274283e-01 -4.80411000e-01 -5.07398282e-01\n",
      "  2.99457732e-01  3.70863024e-01  1.06253557e+00  4.47039426e-01\n",
      " -7.02646361e-01  1.73997437e+00  3.15799377e-01 -3.19069834e-01\n",
      " -7.78360088e-02 -5.77290649e-01  2.52734968e-01  1.23080882e+00\n",
      " -8.87624561e-01 -1.10294728e+00 -7.13459550e-01  4.45585064e-01\n",
      "  1.04549539e+00  5.89207790e-01  4.61230702e-01  1.80988469e+00\n",
      "  5.89423892e-01 -1.62155739e+00 -9.64227639e-01  7.76579095e-02\n",
      "  8.98383522e-01  8.62877459e-02  1.16557363e+00 -3.43690265e-02\n",
      " -1.38843629e+00 -7.13838921e-01 -1.74477604e+00 -2.26867939e-01\n",
      "  2.84451742e-01 -2.01069459e+00  1.09642482e+00  2.05997909e+00\n",
      " -2.01673168e+00  5.29802697e-01 -2.45343689e-01  1.07088759e+00\n",
      "  4.29386357e-01  2.20588884e-01  2.75452030e-01  4.20632181e-01\n",
      " -5.69212503e-01  5.58606732e-02  1.27196005e+00 -4.13378288e-01\n",
      "  4.37945473e-01 -2.12318752e-01  9.48360816e-02 -1.68755076e+00\n",
      "  4.85281698e-01  8.89777823e-01 -1.63844042e+00  9.51633623e-01\n",
      " -9.52694410e-01  4.93096347e-01  2.46674434e-01 -8.49306062e-01\n",
      " -2.83412960e-01  1.65505100e+00 -6.76084314e-01  2.71965097e-01\n",
      " -1.29860772e+00 -1.21893319e+00 -1.42577393e+00 -9.50810459e-01\n",
      "  7.07951838e-01 -8.87715585e-01 -8.05690117e-01  7.78284637e-02\n",
      " -6.52615411e-01  1.70754735e+00  2.77290379e-01  1.09592094e+00\n",
      " -2.41524107e-01  2.11521295e+00  2.42252881e-01  9.05081457e-01\n",
      " -8.64125492e-01 -3.29521372e-01  6.64704457e-01 -8.45555027e-02\n",
      " -2.46333275e+00 -1.44778524e-01 -3.83077196e-01 -1.86385324e+00\n",
      " -1.02509789e+00 -9.32286091e-01 -4.51129787e-01 -1.27924454e+00\n",
      " -1.97368658e-01  1.42023103e+00 -3.64923217e-01 -5.28171357e-01\n",
      " -1.67749239e+00 -5.72173918e-01 -1.67109159e+00 -9.87094561e-01\n",
      "  8.52347301e-01  6.43937271e-01  4.08628988e-01  7.91075500e-02\n",
      " -4.46381707e-01  4.86900329e-01 -5.72273243e-02  3.35419522e-01\n",
      "  1.09809848e+00 -5.43957309e-01  6.87820567e-01  1.34001128e+00\n",
      " -2.09036167e+00 -5.98168282e-01  1.93583110e-02  5.38671962e-01\n",
      "  2.70438259e-01  8.30501790e-01  1.46161967e+00  7.31033809e-01\n",
      "  8.77071845e-01 -9.31957591e-01 -1.00504357e+00  6.86648428e-01\n",
      "  8.93417186e-01  1.24342121e+00 -5.37737210e-01  8.60433290e-01\n",
      "  1.31362111e+00 -3.24295579e-01  8.52214156e-01  1.21188665e+00\n",
      " -1.34245776e+00  3.55146648e-01 -3.25720501e-01 -2.57083882e-01\n",
      "  9.45456809e-01 -9.47785499e-01 -5.42024122e-01 -8.56964469e-01\n",
      "  3.76349835e-01  4.75701460e-01 -2.67935212e-01  5.76292067e-01\n",
      "  2.68938614e-01  1.47538450e+00  8.15746638e-01  1.20931517e-01\n",
      "  8.06604302e-01  2.42222392e-01 -6.50162760e-01  6.37381715e-01\n",
      " -4.28322910e-01 -2.12303461e-01 -7.25098200e-01 -1.36586665e+00\n",
      " -9.53534936e-03  8.89896921e-01 -1.78680043e+00  4.59263283e-01\n",
      " -9.87846824e-01 -2.31941463e-01 -3.82457764e-01  2.17016442e+00\n",
      "  1.03717996e+00 -2.81778785e-01  2.96671516e-01 -1.24818686e+00\n",
      " -4.67926065e-01 -6.47780371e-01 -5.74983062e-01 -9.36124041e-01\n",
      "  2.51654336e-01  9.14127293e-01  9.00889609e-01 -1.03491317e-01\n",
      "  4.73439436e-01  7.35072452e-01  1.54393650e+00  2.76453769e-01\n",
      " -6.51154673e-01  7.11281043e-01  8.37852394e-01 -3.02651781e-01\n",
      " -8.89793459e-01 -1.10724835e+00 -7.54591686e-01 -2.73804371e-01\n",
      "  1.46509260e-01 -4.47216768e-01  4.80084560e-01 -8.23496800e-01\n",
      " -6.32282790e-01  9.27699888e-01  7.90563721e-02 -1.19856120e-01\n",
      " -1.89042714e-01 -1.21550585e+00  1.90585787e+00 -1.63338384e+00\n",
      " -1.29768999e+00  2.77876906e-01  2.44668861e-01 -6.74808229e-01\n",
      " -6.91445689e-02 -2.97949858e-01  2.28210131e-01  3.02441882e-01\n",
      " -1.92726401e-01  9.29329669e-01 -4.22025661e-01  1.81063230e+00\n",
      "  2.92899535e-01 -8.96157897e-01 -7.56337359e-01  1.05206151e-01\n",
      "  1.64004483e+00 -2.30969682e+00 -1.04244126e+00  2.23679665e-01\n",
      "  7.46828142e-01 -9.30644336e-01  2.87033701e-01  9.66322369e-01\n",
      "  1.08283286e-01  5.32157326e-01 -1.55669037e+00 -6.81863569e-01\n",
      " -2.06737491e-01 -4.34870010e-01 -1.39075660e-02  1.13095084e+00\n",
      " -6.40364232e-01 -2.14940741e-01 -9.48378686e-01 -1.47780598e-01\n",
      "  7.26595772e-01  1.95321495e+00 -4.89217972e-02  3.48057611e-02\n",
      "  1.76871357e+00  6.36074428e-01 -8.02795458e-01  2.33489238e-02\n",
      "  1.57344081e-01  5.13540125e-01  2.38676434e+00 -1.06866412e-01\n",
      "  1.51631860e-01 -1.27730519e+00  5.39077169e-01 -4.68549578e-01\n",
      "  6.87769069e-01 -2.17778646e-01 -4.89753476e-01 -3.77399507e-01\n",
      " -8.25140015e-01 -4.56159089e-01 -1.13591293e-01 -9.43836926e-02\n",
      " -1.04553464e+00  5.75838890e-02  9.03166636e-01 -6.20168424e-01\n",
      " -3.36018443e-01  4.28456087e-01 -1.51489673e-01  1.85591817e-01\n",
      "  3.96338421e-01  6.49921287e-01  2.25986480e-01  5.40349534e-01\n",
      " -2.80360362e+00  1.79579815e-01  4.13591710e-01  4.31254063e-01\n",
      " -1.02602952e+00  2.31590562e+00  8.77099404e-01 -5.96725964e-02]\n"
     ]
    }
   ],
   "source": [
    "import numpy as np\n",
    "from numpy import random\n",
    "import matplotlib.pyplot as plt\n",
    "import seaborn as sns\n",
    "x = random.normal(size=1000)\n",
    "print(x)"
   ]
  },
  {
   "cell_type": "code",
   "execution_count": 18,
   "id": "24a991ba-b85c-4514-a846-dcac14074aa4",
   "metadata": {},
   "outputs": [
    {
     "data": {
      "text/plain": [
       "<seaborn.axisgrid.FacetGrid at 0x2e575b97230>"
      ]
     },
     "execution_count": 18,
     "metadata": {},
     "output_type": "execute_result"
    },
    {
     "data": {
      "image/png": "[encoded data removed]",
      "text/plain": [
       "<Figure size 500x500 with 1 Axes>"
      ]
     },
     "metadata": {},
     "output_type": "display_data"
    }
   ],
   "source": [
    "sns.displot(random.normal(size=1000))"
   ]
  },
  {
   "cell_type": "code",
   "execution_count": 19,
   "id": "041acc58-b943-4162-af04-c38b37e538fd",
   "metadata": {},
   "outputs": [
    {
     "name": "stdout",
     "output_type": "stream",
     "text": [
      "[ 7  8  4  4  7  4  5  7  6  5  6  3  6  5  7  4  2  6  3  5  6  6  4  2\n",
      "  3  5  3  5  4  8  2  5  4  4  6  7  3  5  6  3  7  5  7  6  8  5  7  5\n",
      "  6  6  7  3  6  6  4  7  4  2  6  5  4  7  5  7  4  7  1  7  6  3  4  6\n",
      "  4  6  2  4  3  5  5  6  4  4  3  2  4  4  5  7  6  3  5  7  5  4  2  5\n",
      "  3  7  8  6  5  2  6  1  6  7  4  5  5  6  6  5  5  6  7  6  7  4  1  5\n",
      "  2  4  3  4  6  6  7  5  6  5  7  6  4  5  5  6 10  5  7  7  6  5  3  4\n",
      "  5  5  4  3  6  9  5  4  6  4  7  5  3  4  6  6  6  7  4  5  6  7  6  5\n",
      "  7  4  4  4  6  6  4  2  5  7  3  4  7  3  6  8  8  4  3  4  6  4  6  7\n",
      "  1  3  4  4  4  6  5  4  5  2  3  9  8  6  7  4  9  6  2  6  5  3  6  6\n",
      "  6  4  5  7  6  7  4  3  8  6  6  4  5  5  7  2  4  5  4  4  4  8  3  3\n",
      "  7  5  7  6  3  3  7  4  7  3  5  5  3  6  4  6  3  5  7  8  6  5  4  5\n",
      "  5  4  4  8  2  5  7  6  7  4  5  7  6  2  3  4  5  7  4  6  7  3  5  5\n",
      "  7  5  3  3  6  4  4  6  2  9  5  4  4  4  8  2  5  3  4  3  8  7  6  2\n",
      "  5  5  5  6  6  6  6  5  3  5  8  4  4  4  4  3  7  7  6  7  6  5  4  2\n",
      "  3  7  4  5  5  4  6  8  6  6  7  6  3  8  3  4  6  7 10  5  5  4  7  2\n",
      "  5  5  7  6  6  6  5  5  5  5  7  6  3  8  3  6  3  4  3  3  6  6  7  4\n",
      "  4  5  5  3  4  3  7  4  6  2  4  7  3  3  6  7  3  5  4  7  4  4  8  8\n",
      "  6  7  8  5  2  6  4  9  5  5  8  7  5  4  7  6  5 10  6  3  4  6  5  6\n",
      "  5  5  5  5  6  4  4  6  5  6  7  6  7  4  7  6  4  4  6  6  4  5  8  2\n",
      "  2  5  4  1  6  6  5  3  7  5  6  3  8  5  7  6  7  6  5  6  5  5  4  7\n",
      "  3  6  5  4  2  6  4  4  8  3  3  6  3  8  4  5  7  5  3  5  4  7  5  5\n",
      "  4  6  3  3  1  5  6  4  6  8  3  6  4  5  4  6  5  4  5  5  5  9  3  4\n",
      "  4  5  4  3  3  6  5  5  7  7  7  6  4  4  6  6  6  3  3  6  8  5  6  3\n",
      "  5  7  5  3  5  5  6  3  2  5  7  4  5  7  6  4  3  3  6  4  9  4  7  7\n",
      "  6  3  5  7  5  5  4  4  5  5  6  4  5  3  5  3  6  5  3  8  4  3  5  4\n",
      "  6  4  4  7  2  7  5  4  2  7  8  4  6  6  6  4  6  1  4  7  5  5  6  4\n",
      "  5  5  5  5  6  3  3  7  8  4  7  4  4  3  5  7  7  7  6  4  5  8  4  5\n",
      "  5  6  5  5  3  4  3  4  5  6  5  4  2  3  4  4  6  7  5  9  3  6  6  2\n",
      "  6  5  9  3  4  8  1  5  9  2  6  4  4  4  5  3  5  5  7  4  7  4  4  4\n",
      "  4  4  5  6  5  6  8  3  7  3  2  8  4  6  6  3  7  6  4  4  4  7  6  5\n",
      "  5  6  5  5  4  4  7  5  7  4  6  5  4  4  6  6  3  5  4  6  5  5  6  6\n",
      "  5  8  9  2  6  6  5  6  4  5  5  3  7  4  5  6  5  6  5  4  5  7  1  5\n",
      "  1  5  4  3  8  4  6  6  5  6  5  7  7  7  4  5  6  4  6  5  7  6  4  6\n",
      "  6  7  2  6  3  7  6  4  2  4  7  4  7  3  6  4  6  4  6  5  8  7  4  5\n",
      "  3  3  3  6  5  7  4  5  5  4  7  6  6  3  4  6  4  4  6  6  5  3  6  4\n",
      "  6  5  4  3  7  6  5  2  5  6  6  3  6  2  7  5  6  4  6  8  5  7  4  2\n",
      "  5  4  6  6  5  4  7  5  5  3  6  4  4  5  6  3  4  6  4  5  8  2  6  3\n",
      "  5  2  2  4  3  4  6  7  5  2  5  4  6  4  6  5  4  5  6  5  6  6  6  5\n",
      "  2  7  7  3  4  6  7  5  5  7  4  5  0  4  2  3  8  2  4  5  3  6  4  6\n",
      "  6  5  4  6  3  5  4  4  7  4  5  4  4  1  6  9  6  7  5  3  4  5  4  4\n",
      "  4  4  5  6  6  4  3  6  2  6  3  4  6  6  6  5  3  6  5  2  3  3  4  4\n",
      "  3  6  4  3  7  7  4  5  5  7  2  5  5  5  4  3]\n"
     ]
    },
    {
     "name": "stderr",
     "output_type": "stream",
     "text": [
      "C:\\Users\\USER\\AppData\\Local\\Temp\\ipykernel_18940\\2932074556.py:8: UserWarning: \n",
      "\n",
      "`distplot` is a deprecated function and will be removed in seaborn v0.14.0.\n",
      "\n",
      "Please adapt your code to use either `displot` (a figure-level function with\n",
      "similar flexibility) or `histplot` (an axes-level function for histograms).\n",
      "\n",
      "For a guide to updating your code to use the new functions, please see\n",
      "https://gist.github.com/mwaskom/de44147ed2974457ad6372750bbe5751\n",
      "\n",
      "  sns.distplot(random.binomial(n=10,p= 0.5, size=1000), hist=True, kde = False)\n"
     ]
    },
    {
     "data": {
      "text/plain": [
       "<Axes: >"
      ]
     },
     "execution_count": 19,
     "metadata": {},
     "output_type": "execute_result"
    },
    {
     "data": {
      "image/png": "[encoded data removed]",
      "text/plain": [
       "<Figure size 640x480 with 1 Axes>"
      ]
     },
     "metadata": {},
     "output_type": "display_data"
    }
   ],
   "source": [
    "#binomial distribution\n",
    "from numpy import random\n",
    "x = random.binomial(n=10,p=0.5,size=1000)\n",
    "print(x)\n",
    "from numpy import random\n",
    "import matplotlib.pyplot as plt\n",
    "import seaborn as sns \n",
    "sns.distplot(random.binomial(n=10,p= 0.5, size=1000), hist=True, kde = False)"
   ]
  },
  {
   "cell_type": "code",
   "execution_count": 20,
   "id": "f751deae-11d2-4710-92f9-1c05fd954e08",
   "metadata": {},
   "outputs": [
    {
     "name": "stdout",
     "output_type": "stream",
     "text": [
      "[0 2 0 3 0 3 2 2 2 2]\n"
     ]
    }
   ],
   "source": [
    "from numpy import random\n",
    "x= random.poisson(lam=2,size=10)\n",
    "print(x)"
   ]
  },
  {
   "cell_type": "code",
   "execution_count": 21,
   "id": "01e5c441-cb79-472a-9b53-d5985550b7de",
   "metadata": {},
   "outputs": [],
   "source": [
    "#visualization of poissson distribution"
   ]
  },
  {
   "cell_type": "code",
   "execution_count": 22,
   "id": "c2814f4e-3b94-490f-acd5-fabd0275c968",
   "metadata": {},
   "outputs": [
    {
     "name": "stdout",
     "output_type": "stream",
     "text": [
      "    cars  passings\n",
      "0    BMW         3\n",
      "1  Volvo         7\n",
      "2   Ford         2\n"
     ]
    }
   ],
   "source": [
    "import pandas as pd\n",
    "mydataset ={#data\n",
    "    'cars':[\"BMW\",\"Volvo\",\"Ford\"],\n",
    "    'passings':[3,7,2]\n",
    "}\n",
    "myvar = pd.DataFrame(mydataset)#fuction arg\n",
    "print(myvar)"
   ]
  },
  {
   "cell_type": "code",
   "execution_count": 23,
   "id": "b068fc65-9fa0-4477-a0db-61e5590eecaf",
   "metadata": {},
   "outputs": [
    {
     "name": "stdout",
     "output_type": "stream",
     "text": [
      "day1    420\n",
      "day2    380\n",
      "day3    390\n",
      "dtype: int64\n"
     ]
    }
   ],
   "source": [
    "import pandas as pd\n",
    "calories = {\"day1\":420,\"day2\":380,\"day3\":390}\n",
    "myvar = pd.Series(calories)\n",
    "print(myvar)"
   ]
  },
  {
   "cell_type": "code",
   "execution_count": 24,
   "id": "bbfc88df-651e-44cb-8625-e3f4b1182315",
   "metadata": {},
   "outputs": [],
   "source": [
    "#differece between serie and dataframe\n",
    "#data can be of two types 1.categorial data 2. numerial data\n",
    "#linear regression\n",
    "#Read CSV file from URL"
   ]
  },
  {
   "cell_type": "code",
   "execution_count": 25,
   "id": "7ba8248d-c43f-492b-8fdc-8963cd392eb6",
   "metadata": {},
   "outputs": [
    {
     "name": "stdout",
     "output_type": "stream",
     "text": [
      "     sepal length  sepal width  petal length  petal width    species\n",
      "0             5.1          3.5           1.4          0.2     setosa\n",
      "1             4.9          3.0           1.4          0.2     setosa\n",
      "2             4.7          3.2           1.3          0.2     setosa\n",
      "3             4.6          3.1           1.5          0.2     setosa\n",
      "4             5.0          3.6           1.4          0.2     setosa\n",
      "..            ...          ...           ...          ...        ...\n",
      "145           6.7          3.0           5.2          2.3  virginica\n",
      "146           6.3          2.5           5.0          1.9  virginica\n",
      "147           6.5          3.0           5.2          2.0  virginica\n",
      "148           6.2          3.4           5.4          2.3  virginica\n",
      "149           5.9          3.0           5.1          1.8  virginica\n",
      "\n",
      "[150 rows x 5 columns]\n"
     ]
    }
   ],
   "source": [
    "#Read CSV file from URL\n",
    "import pandas as pd\n",
    "#url = 'https;//raw.githubusercontent.com/cs109/2024_data/master/countries.csv\"\n",
    "url = \"https://raw.githubusercontent.com/vizydrop/data-samples/master/flowers.csv\"\n",
    "df = pd.read_csv(url)\n",
    "print(df)"
   ]
  },
  {
   "cell_type": "code",
   "execution_count": 26,
   "id": "8b1d7779-7255-4ceb-8407-b8b5071ec660",
   "metadata": {},
   "outputs": [
    {
     "name": "stdout",
     "output_type": "stream",
     "text": [
      "Enter a line of text:\n"
     ]
    },
    {
     "name": "stdin",
     "output_type": "stream",
     "text": [
      " pattern\n"
     ]
    },
    {
     "name": "stdout",
     "output_type": "stream",
     "text": [
      "Words: ['pattern']\n",
      "Counting\n",
      "concatination of the numbers: \n",
      "additions of the numbers 0\n",
      "Special characters are not present.\n"
     ]
    }
   ],
   "source": [
    "#counting pattern\n",
    "counts = dict()\n",
    "print('Enter a line of text:')\n",
    "line = input('')\n",
    "\n",
    "words = line.split()\n",
    "print('Words:',words)\n",
    "print('Counting')\n",
    "concatenated_num=''\n",
    "add = 0\n",
    "for word in words:\n",
    "   \n",
    "    try:\n",
    "        num = int(word)\n",
    "        add = add + int(word)\n",
    "        concatenated_num = concatenated_num + word\n",
    "    except:\n",
    "        pass\n",
    "        print('concatination of the numbers:',concatenated_num)\n",
    "        print('additions of the numbers',add)\n",
    "        special_chars = ['!','@','#','$','&','*']\n",
    "\n",
    "special_found = False\n",
    "for word in words:\n",
    "    if word in special_chars:\n",
    "        special_found =True\n",
    "        break\n",
    "    if special_found:\n",
    "        print(\"The special characters are found\")\n",
    "else:\n",
    "    print(\"Special characters are not present.\")\n",
    "        "
   ]
  },
  {
   "cell_type": "code",
   "execution_count": null,
   "id": "57f508eb-2b73-4a0c-a9ec-6cea00ce32b5",
   "metadata": {},
   "outputs": [],
   "source": []
  }
 ],
 "metadata": {
  "kernelspec": {
   "display_name": "Python 3 (ipykernel)",
   "language": "python",
   "name": "python3"
  },
  "language_info": {
   "codemirror_mode": {
    "name": "ipython",
    "version": 3
   },
   "file_extension": ".py",
   "mimetype": "text/x-python",
   "name": "python",
   "nbconvert_exporter": "python",
   "pygments_lexer": "ipython3",
   "version": "3.13.5"
  }
 },
 "nbformat": 4,
 "nbformat_minor": 5
}
